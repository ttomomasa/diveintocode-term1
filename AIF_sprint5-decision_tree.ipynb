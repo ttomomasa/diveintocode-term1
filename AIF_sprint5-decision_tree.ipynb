{
 "cells": [
  {
   "cell_type": "markdown",
   "metadata": {},
   "source": [
    "# この課題の目的\n",
    "・コーディング力を向上させる  \n",
    "・スクラッチを通して決定木を理解する  \n",
    "・複雑なアルゴリズムの実装に慣れる\n",
    "\n",
    "**※課題提出時の感想**  \n",
    "本課題を実施した結果、上記の目的はおおよそ達成できたと思います。３点目はまだまだだと思います。また、最適なclassを作成できたかと言うと、もっとちゃんとしたのを作成しないと業務では使えないと思います。とりあえず、今回の課題の決定木のスクラッチを動作させて学習・推論・グラフ描画するところまでたどり着けることをゴールとしました。  \n",
    "この課題の難しかったところは、実装ももちろん大変だったのですが、要件（目指すゴール＝推論で何を出したいのか。何をどのように学習させるのか）を把握することに時間を取られました。\n",
    "\n",
    "\n",
    "**課題として提示されているが出来ていない点**  \n",
    "・ノードを扱うクラスの作成  \n",
    "・探索を行うメソッドの作成  \n",
    "・評価  \n",
    "・オプション（剪定）  \n",
    "・他のデータセットへの適用  \n",
    "・Sckit-learnによる実装  \n"
   ]
  },
  {
   "cell_type": "markdown",
   "metadata": {},
   "source": [
    "# データセットの用意\n"
   ]
  },
  {
   "cell_type": "code",
   "execution_count": 1,
   "metadata": {},
   "outputs": [],
   "source": [
    "import numpy as np\n",
    "import pandas as pd\n",
    "X = np.array([[-0.44699 , -2.8073  ],[-1.4621  , -2.4586  ],\n",
    "       [ 0.10645 ,  1.9242  ],[-3.5944  , -4.0112  ],\n",
    "       [-0.9888  ,  4.5718  ],[-3.1625  , -3.9606  ],\n",
    "       [ 0.56421 ,  0.72888 ],[-0.60216 ,  8.4636  ],\n",
    "       [-0.61251 , -0.75345 ],[-0.73535 , -2.2718  ],\n",
    "       [-0.80647 , -2.2135  ],[ 0.86291 ,  2.3946  ],\n",
    "       [-3.1108  ,  0.15394 ],[-2.9362  ,  2.5462  ],\n",
    "       [-0.57242 , -2.9915  ],[ 1.4771  ,  3.4896  ],\n",
    "       [ 0.58619 ,  0.37158 ],[ 0.6017  ,  4.3439  ],\n",
    "       [-2.1086  ,  8.3428  ],[-4.1013  , -4.353   ],\n",
    "       [-1.9948  , -1.3927  ],[ 0.35084 , -0.031994],\n",
    "       [ 0.96765 ,  7.8929  ],[-1.281   , 15.6824  ],\n",
    "       [ 0.96765 , 10.083   ],[ 1.3763  ,  1.3347  ],\n",
    "       [-2.234   , -2.5323  ],[-2.9452  , -1.8219  ],\n",
    "       [ 0.14654 , -0.28733 ],[ 0.5461  ,  5.8245  ],\n",
    "       [-0.65259 ,  9.3444  ],[ 0.59912 ,  5.3524  ],\n",
    "       [ 0.50214 , -0.31818 ],[-3.0603  , -3.6461  ],\n",
    "       [-6.6797  ,  0.67661 ],[-2.353   , -0.72261 ],\n",
    "       [ 1.1319  ,  2.4023  ],[-0.12243 ,  9.0162  ],\n",
    "       [-2.5677  , 13.1779  ],[ 0.057313,  5.4681  ]])\n",
    "#y = np.array([0, 0, 1, 1])\n",
    "y = np.array([0, 0, 0, 0, 0, 0, 0, 0, 0, 0, 0, 0, 0, 0, 0, 0, 0, 0, 0, 0, 1, 1,\n",
    "       1, 1, 1, 1, 1, 1, 1, 1, 1, 1, 1, 1, 1, 1, 1, 1, 1, 1])"
   ]
  },
  {
   "cell_type": "code",
   "execution_count": 2,
   "metadata": {},
   "outputs": [
    {
     "data": {
      "text/plain": [
       "((40, 2), (40,))"
      ]
     },
     "execution_count": 2,
     "metadata": {},
     "output_type": "execute_result"
    }
   ],
   "source": [
    "X.shape, y.shape"
   ]
  },
  {
   "cell_type": "code",
   "execution_count": 3,
   "metadata": {},
   "outputs": [
    {
     "data": {
      "image/png": "[encoded data removed]",
      "text/plain": [
       "<Figure size 432x288 with 1 Axes>"
      ]
     },
     "metadata": {
      "needs_background": "light"
     },
     "output_type": "display_data"
    }
   ],
   "source": [
    "import matplotlib.pyplot as plt\n",
    "%matplotlib inline\n",
    "\n",
    "plt.scatter(X[:, 0], X[:, 1], s=50, c=y, marker='o')\n",
    "plt.show()"
   ]
  },
  {
   "cell_type": "markdown",
   "metadata": {},
   "source": [
    "# テストデータの分割\n",
    "学習用（train）8割、検証用（val）2割に分割する。シャッフルは必要ない。"
   ]
  },
  {
   "cell_type": "code",
   "execution_count": 4,
   "metadata": {},
   "outputs": [],
   "source": [
    "from sklearn.model_selection import train_test_split\n",
    "X_train, X_test, y_train, y_test = train_test_split(X, y, train_size=0.8, test_size=0.2, stratify=y)"
   ]
  },
  {
   "cell_type": "markdown",
   "metadata": {},
   "source": [
    "## ScratchDecesionTreeClassifier"
   ]
  },
  {
   "cell_type": "code",
   "execution_count": 52,
   "metadata": {},
   "outputs": [],
   "source": [
    "class ScratchDecesionTreeClassifier:\n",
    "\n",
    "    def __init__(self):\n",
    "        import numpy as np\n",
    "        import pandas as pd\n",
    "    \n",
    "    # 情報利得（information gain）求める関数\n",
    "    def _info_gain(self, I_total, I_A, I_B, nodeA_class0, nodeA_class1):\n",
    "\n",
    "        total_class0 = np.sum(self.y==0, axis=0)  # 0ラベルの個数\n",
    "        total_class1 = np.sum(self.y==1, axis=0)  # 1ラベルの個数\n",
    "\n",
    "        # ノードA/Bのサンプル数\n",
    "        nodeA_count = nodeA_class0 + nodeA_class1\n",
    "        nodeB_count = len(self.X) - nodeA_count\n",
    "\n",
    "        # 情報利得の算出\n",
    "        info_gain = I_total - (I_A * ( nodeA_count / len(self.X)) + I_B * ( nodeB_count / len(self.X)))\n",
    "\n",
    "        return info_gain\n",
    "    \n",
    "    # ジニ不純度（ジニ係数）を求める関数\n",
    "    def _gini_impurity(self, nodeA_class0, nodeA_class1):\n",
    "        # 全体\n",
    "        total_count = len(self.X)   # 全体の個数\n",
    "        total_class0 = np.sum(self.y==0, axis=0)  # 0ラベルの個数\n",
    "        total_class1 = np.sum(self.y==1, axis=0)  # 1ラベルの個数\n",
    "    \n",
    "        # ノードAのサンプル数\n",
    "        nodeA_count = nodeA_class0 + nodeA_class1\n",
    "    \n",
    "        # ノードBのサンプル数、class0の数、class1の数\n",
    "        nodeB_count = total_count - nodeA_count\n",
    "        nodeB_class0 = total_class0 - nodeA_class0\n",
    "        nodeB_class1 = total_class1 - nodeA_class1\n",
    "\n",
    "        # ルートのジニ係数\n",
    "        I_total = 1 - ((total_class0     / total_count)**2  +  (total_class1 / total_count)**2)\n",
    "\n",
    "        # ノードAのジニ係数\n",
    "        if nodeA_count == 0:\n",
    "            I_A = 0\n",
    "        else:\n",
    "            I_A = 1 - ((nodeA_class0 / nodeA_count)**2 + (nodeA_class1 / nodeA_count)**2)\n",
    "\n",
    "        # ノードBのジニ係数\n",
    "        if nodeB_count == 0:\n",
    "            I_B = 0\n",
    "        else:\n",
    "            I_B = 1 - ((nodeB_class0 / nodeB_count)**2  + (nodeB_class1 / nodeB_count)**2)\n",
    "\n",
    "        return I_total, I_A, I_B\n",
    "\n",
    "    \n",
    "    # ノード分割する（場合分けする）\n",
    "    def _divide_nodeA_or_nodeB(self, col):\n",
    "        ig_box = np.array([])\n",
    "        \n",
    "        for i in range(len(self.X)):\n",
    "        \n",
    "            # 全体と行を大小比較してTrue/Falseをゲットする！\n",
    "            nodeA = self.X[:, col] >= self.X[i, col]    \n",
    "            nodeB = self.X[:, col] < self.X[i, col]\n",
    "\n",
    "            # ジニ変数を取得する。ここが大事で、とても勉強になった書き方\n",
    "            I_total, I_A, I_B = self._gini_impurity(np.sum(self.y[nodeA] == 0, axis=0), np.sum(self.y[nodeA] == 1, axis=0))\n",
    "            \n",
    "            # 情報利得をゲットする\n",
    "            ig_box = np.append(ig_box, self._info_gain(I_total, I_A, I_B, np.sum(self.y[nodeA] == 0, axis=0),np.sum(self.y[nodeA] == 1, axis=0)))\n",
    "            \n",
    "        return ig_box\n",
    "    \n",
    "    # 学習する（学習というより、Xの中から最適な座標点を探す）\n",
    "    def fit(self, X, y):\n",
    "        self.X = X\n",
    "        self.y = y\n",
    "        ig_box0 = self._divide_nodeA_or_nodeB(0)\n",
    "        ig_box1 = self._divide_nodeA_or_nodeB(1)\n",
    "\n",
    "        # X0とX1の情報利得を統合する\n",
    "        ig_box_all = np.concatenate([ig_box0, ig_box1])\n",
    "\n",
    "        # 最大の情報利得をもつ値のインデックスを取得する\n",
    "        max_index = np.argmax(ig_box_all)\n",
    "\n",
    "        # 商（インデックス（71）÷40） →　カラム\n",
    "        self.max_index_col = max_index//ig_box0.shape[0]\n",
    "\n",
    "        # 余り（インデックス（71）÷40） →　列\n",
    "        self.max_index_i = max_index%ig_box0.shape[0]\n",
    "        \n",
    "        # 閾値で分類したnodeA/Bそれぞのノードのクラス（0 or 1）をカウントする\n",
    "        nA_count = self.X[:, self.max_index_col] >= self.X[self.max_index_i, self.max_index_col]\n",
    "        nB_count = self.X[:, self.max_index_col] < self.X[self.max_index_i, self.max_index_col]\n",
    "\n",
    "        classA0 = np.sum(y[nA_count] == 0, axis=0)\n",
    "        classA1 = np.sum(y[nA_count] == 1, axis=0)\n",
    "        \n",
    "        classB0 = np.sum(y[nB_count] == 0, axis=0)\n",
    "        classB1 = np.sum(y[nB_count] == 1, axis=0)\n",
    "        \n",
    "        # 閾値で分けたnodeA,nodeBのクラスを取得する\n",
    "        if classA0 > classA1:\n",
    "            self.nodeA_confirm_class = 0\n",
    "            self.nodeB_confirm_class = 1\n",
    "        else:\n",
    "            self.nodeA_confirm_class = 1\n",
    "            self.nodeB_confirm_class = 0\n",
    "        \n",
    "        print(\"インデックス, カラム：\", self.max_index_i, self.max_index_col)\n",
    "        print(\"情報利得の最大値\", ig_box_all[max_index])\n",
    "        print(\"切る位置（＝閾値）\", self.X[self.max_index_i, self.max_index_col])\n",
    "    \n",
    "    # 予測する\n",
    "    def predict(self, X):\n",
    "        \n",
    "        # 予測結果の枠を作成\n",
    "        pred = np.zeros(len(X)).astype(int)\n",
    "        \n",
    "        # fitで求めた閾値と、予測する列の値を比較する。True,Falseを変数に代入する\n",
    "        nodeA = X[:, self.max_index_col] >= self.X[self.max_index_i, self.max_index_col]    \n",
    "        nodeB = X[:, self.max_index_col] < self.X[self.max_index_i, self.max_index_col]\n",
    "        \n",
    "        # pred\n",
    "        pred[nodeA] = self.nodeA_confirm_class\n",
    "        pred[nodeB] = self.nodeB_confirm_class\n",
    "        \n",
    "        return pred\n",
    "                         "
   ]
  },
  {
   "cell_type": "code",
   "execution_count": 56,
   "metadata": {},
   "outputs": [
    {
     "name": "stdout",
     "output_type": "stream",
     "text": [
      "インデックス, カラム： 31 1\n",
      "情報利得の最大値 0.07680250783699061\n",
      "切る位置（＝閾値） 5.3524\n",
      "\n",
      "インデックス, カラム： 22 1\n",
      "情報利得の最大値 0.11835748792270528\n",
      "切る位置（＝閾値） 5.3524\n"
     ]
    }
   ],
   "source": [
    "# インスタンス1作成\n",
    "sdtc1 = ScratchDecesionTreeClassifier()\n",
    "\n",
    "# 学習1\n",
    "sdtc1.fit(X, y)\n",
    "print(\"\")\n",
    "\n",
    "# インスタンス2作成\n",
    "sdtc2 = ScratchDecesionTreeClassifier()\n",
    "\n",
    "# 学習2（訓練とテストでデータを分けた場合）\n",
    "sdtc2.fit(X_train, y_train)"
   ]
  },
  {
   "cell_type": "code",
   "execution_count": 57,
   "metadata": {},
   "outputs": [
    {
     "data": {
      "text/plain": [
       "array([0, 0, 0, 0, 0, 0, 0, 1, 0, 0, 0, 0, 0, 0, 0, 0, 0, 0, 1, 0, 0, 0,\n",
       "       1, 1, 1, 0, 0, 0, 0, 1, 1, 1, 0, 0, 0, 0, 0, 1, 1, 1])"
      ]
     },
     "execution_count": 57,
     "metadata": {},
     "output_type": "execute_result"
    }
   ],
   "source": [
    "# 推論1（fitとpredictで使うX,yが同じ場合）\n",
    "sdtc1.predict(X)"
   ]
  },
  {
   "cell_type": "code",
   "execution_count": 58,
   "metadata": {},
   "outputs": [
    {
     "data": {
      "text/plain": [
       "array([0, 0, 0, 0, 0, 0, 0, 1, 0, 0, 0, 0, 0, 0, 0, 0, 0, 0, 1, 0, 0, 0,\n",
       "       1, 1, 1, 0, 0, 0, 0, 1, 1, 1, 0, 0, 0, 0, 0, 1, 1, 1])"
      ]
     },
     "execution_count": 58,
     "metadata": {},
     "output_type": "execute_result"
    }
   ],
   "source": [
    "# 推論（fitとpredictで使うX,yを分けた場合）\n",
    "sdtc2.predict(X)"
   ]
  },
  {
   "cell_type": "code",
   "execution_count": 60,
   "metadata": {},
   "outputs": [
    {
     "name": "stdout",
     "output_type": "stream",
     "text": [
      "インデックス, カラム： 31 1\n",
      "情報利得の最大値 0.07680250783699061\n",
      "切る位置（＝閾値） 5.3524\n"
     ]
    },
    {
     "data": {
      "image/png": "[encoded data removed]",
      "text/plain": [
       "<Figure size 432x288 with 1 Axes>"
      ]
     },
     "metadata": {
      "needs_background": "light"
     },
     "output_type": "display_data"
    }
   ],
   "source": [
    "# グラフで可視化\n",
    "from matplotlib.colors import ListedColormap\n",
    "import  matplotlib.pyplot as plt \n",
    "%matplotlib inline\n",
    "\n",
    "# 可視化関数\n",
    "def plot_decision_regions(X, model):\n",
    "    plt.scatter(X[:,0], X[:,1], s=80, c=y, marker='o')\n",
    "\n",
    "    #サポートベクターも同様にプロット\n",
    "    step = 0.1\n",
    "    mesh_f0, mesh_f1  = np.meshgrid(np.arange(np.min(X[:,0])-0.5, np.max(X[:,0])+0.5, step), np.arange(np.min(X[:,1])-0.5, np.max(X[:,1])+0.5, step))\n",
    "    mesh = np.c_[np.ravel(mesh_f0),np.ravel(mesh_f1)]\n",
    "    pred = model.predict(mesh).reshape(mesh_f0.shape)\n",
    "    plt.contour(mesh_f0, mesh_f1, pred, 1)\n",
    "    plt.show()\n",
    "\n",
    "tree = ScratchDecesionTreeClassifier()\n",
    "tree.fit(X, y)\n",
    "plot_decision_regions(X, tree)"
   ]
  },
  {
   "cell_type": "markdown",
   "metadata": {},
   "source": [
    "# 説明"
   ]
  },
  {
   "cell_type": "markdown",
   "metadata": {},
   "source": [
    "**決定木とは何か**  \n",
    "決定木は、クラス分類と回帰タスクに広く用いられるモデルです。決定木はYes/Noで答えられる質問で構成された階層的な木構造を学習するものです。このようなモデルを手で作るのではなく、データから教師あり学習によって作ることができる点がポイントです。\n",
    "\n",
    "**ロジスティック回帰やSVMとの違い**  \n",
    "「ロジスティック回帰」と「SVM」は重みパラメータを勾配降下法で学習することができるが、決定木は重みパラメータという思想がないので、勾配降下法は利用しません。  \n",
    "  \n",
    "  \n",
    "**ジニ不純度とは何か。例えばどのようなときに最大になるか**  \n",
    "ジニ不純度とは、どのくらい混じっているかを表すものです。  \n",
    "そのノードに分類された、「クラスの割合い」が高いと、ジニ係数は高い値となります。（全然分離できていない状態）  \n",
    "そのノードに分類された、「クラスの割合い」が低いと、ジニ係数は低い値になります。（ちゃんと分離できている状態）  　\n",
    "\n",
    "\n",
    "**決定木は情報利得をどのように使うことで学習するか**  \n",
    "今回実施したCART法では、情報利得（親のジニ係数　ー　（子ノード1のジニ係数*(x/100) + 子ノード2のジニ係数*(y/100)））が最大となるサンプルデータを見つけることが最大の目的です。そのため、パラメータを勾配降下法で学習するというよりか、一番ちゃんと分類できる点を**探すこと**が学習と呼ばれています。  \n",
    "※x + y = 100\n",
    "\n"
   ]
  },
  {
   "cell_type": "markdown",
   "metadata": {},
   "source": [
    "## 以下に記載しているコードは練習で使用したコードや、class作成前の関数となりますので、無視してください。"
   ]
  },
  {
   "cell_type": "code",
   "execution_count": 11,
   "metadata": {},
   "outputs": [],
   "source": [
    "# pre = np.zeros(len(X_test)).astype(int)\n",
    "# nodeA = np.array([True,True,True,True,True,True,True, False])\n",
    "\n",
    "# pre[nodeA] = 1\n",
    "\n",
    "# print(pre)\n",
    "# print(nodeA)"
   ]
  },
  {
   "cell_type": "code",
   "execution_count": 12,
   "metadata": {},
   "outputs": [],
   "source": [
    "# pandasのDataFrameにしてみた\n",
    "# XX = pd.DataFrame(X)\n",
    "# XX.iloc[31,1]\n",
    "#XX\n",
    "# pandasのDataFrame形式で参照してみる"
   ]
  },
  {
   "cell_type": "code",
   "execution_count": 13,
   "metadata": {},
   "outputs": [],
   "source": [
    "# def divide_nodeA_or_nodeB(X, col):\n",
    "#     ig_box = np.array([])\n",
    "\n",
    "#     for i in range(len(X)):\n",
    "        \n",
    "#         # X0（もしくはX1）全体と、X0（もしくはX1）のある行を比較して大小をTrue/Falseでゲットする！\n",
    "#         nodeA = X[:, col] >= X[i, col]    \n",
    "#         nodeB = X[:, col] < X[i, col]\n",
    "        \n",
    "#         #print(\"ループ：\",i,\"nodeA-class0の数：\" ,np.sum(y[nodeA] == 0, axis=0))\n",
    "#         #print(\"ループ：\",i,\"nodeA-class1の数:\" ,np.sum(y[nodeA] == 1, axis=0))\n",
    "         \n",
    "#         #print(y[nodeB]) \n",
    "#         #print(\"ループ：\",i,\"nodeB-class0の数：\" ,np.sum(y[nodeB] == 0, axis=0))\n",
    "#         #print(\"ループ：\",i,\"nodeB-class1の数:\" ,np.sum(y[nodeB] == 1, axis=0))\n",
    "\n",
    "#         #d, e, f = gini_impurity(X, np.sum(y[nodeB] == 0, axis=0), np.sum(y[nodeB] == 1, axis=0))\n",
    "#         #print(\"nodeBのジニ変数\",d,\"--\",e,\"--\",f)\n",
    "        \n",
    "#         # 全体/nodeA/Bのジニ変数を取得する\n",
    "#         I_total, I_A, I_B = gini_impurity(X, np.sum(y[nodeA] == 0, axis=0), np.sum(y[nodeA] == 1, axis=0))\n",
    "#         #print(\"nodeAのジニ変数\", I_total,\"--\", I_A,\"--\", I_B)\n",
    "        \n",
    "#         #print(\"情報利得：\",i,\"---\",information_gain(I_total, I_A, I_B))\n",
    "#         ig_box = np.append(ig_box, information_gain(X, I_total, I_A, I_B, np.sum(y[nodeA] == 0, axis=0),np.sum(y[nodeA] == 1, axis=0)))\n",
    "#     return ig_box"
   ]
  },
  {
   "cell_type": "code",
   "execution_count": 14,
   "metadata": {},
   "outputs": [],
   "source": [
    "# # ジニ不純度（ジニ係数）を求める関数\n",
    "# def gini_impurity(X, nodeA_class0, nodeA_class1):\n",
    "#     # 全体\n",
    "#     total_count = len(X)   # 全体の個数\n",
    "#     total_class0 = np.sum(y==0, axis=0)  # 0ラベルの個数\n",
    "#     total_class1 = np.sum(y==1, axis=0)  # 1ラベルの個数\n",
    "    \n",
    "#     # ノードAのサンプル数\n",
    "#     nodeA_count = nodeA_class0 + nodeA_class1\n",
    "    \n",
    "#     # ノードBのサンプル数、class0の数、class1の数\n",
    "#     nodeB_count = total_count - nodeA_count\n",
    "#     nodeB_class0 = total_class0 - nodeA_class0\n",
    "#     nodeB_class1 = total_class1 - nodeA_class1\n",
    "    \n",
    "#     # ルートのジニ係数\n",
    "#     I_total = 1 - ((total_class0     / total_count)**2  +  (total_class1 / total_count)**2)\n",
    "    \n",
    "#     # ノードAのジニ係数\n",
    "#     if nodeA_count == 0:\n",
    "#         I_A = 0\n",
    "#     else:\n",
    "#         I_A = 1 - ((nodeA_class0 / nodeA_count)**2 + (nodeA_class1 / nodeA_count)**2)\n",
    "    \n",
    "#     # ノードBのジニ係数\n",
    "#     if nodeB_count == 0:\n",
    "#         I_B = 0\n",
    "#     else:\n",
    "#         I_B = 1 - ((nodeB_class0 / nodeB_count)**2  + (nodeB_class1 / nodeB_count)**2)\n",
    "    \n",
    "#     return I_total, I_A, I_B"
   ]
  },
  {
   "cell_type": "code",
   "execution_count": 15,
   "metadata": {},
   "outputs": [],
   "source": [
    "# # 情報利得（information gain）求める関数\n",
    "# def information_gain(X, I_total, I_A, I_B, nodeA_class0, nodeA_class1):\n",
    "\n",
    "#     total_class0 = np.sum(y==0, axis=0)  # 0ラベルの個数\n",
    "#     total_class1 = np.sum(y==1, axis=0)  # 1ラベルの個数\n",
    "    \n",
    "#     # ノードA/Bのサンプル数\n",
    "#     nodeA_count = nodeA_class0 + nodeA_class1\n",
    "#     nodeB_count = len(X) - nodeA_count\n",
    "\n",
    "#     # 情報利得の算出\n",
    "#     info_gain = I_total - (I_A * ( nodeA_count / len(X)) + I_B * ( nodeB_count / len(X)))\n",
    "\n",
    "#     return info_gain"
   ]
  },
  {
   "cell_type": "code",
   "execution_count": 16,
   "metadata": {},
   "outputs": [],
   "source": [
    "# ig_box0 = divide_nodeA_or_nodeB(X, 0)\n",
    "# ig_box1 = divide_nodeA_or_nodeB(X, 1)\n",
    "\n",
    "# # X0とX1の情報利得を統合する\n",
    "# ig_box_all = np.concatenate([ig_box0, ig_box1])\n",
    "\n",
    "# # 最大の情報利得のインデックスを取得する\n",
    "# max_index = np.argmax(ig_box_all)\n",
    "\n",
    "# # 商（インデックス（71）÷40） →　カラム\n",
    "# max_index_col = max_index//ig_box0.shape[0]\n",
    "\n",
    "# # 余り（インデックス（71）÷40） →　列インデックス\n",
    "# max_index_i = max_index%ig_box0.shape[0]\n",
    "\n",
    "# # 列、カラム\n",
    "# print(\"インデックス, カラム：\",max_index_i, max_index_col)\n",
    "\n",
    "# print(\"情報利得の最大値\",ig_box_all[max_index])\n",
    "\n",
    "# print(\"切る位置（＝閾値）\", X[max_index_i, max_index_col])"
   ]
  },
  {
   "cell_type": "code",
   "execution_count": 17,
   "metadata": {},
   "outputs": [],
   "source": [
    "#X0が閾値（例えば0.2）以上のインデックスを返す\n",
    "# np.where(X[:, 0]>0.2)"
   ]
  },
  {
   "cell_type": "code",
   "execution_count": 18,
   "metadata": {},
   "outputs": [],
   "source": [
    "# 閾値をX0軸でのみ調べる\n",
    "# for i in X:\n",
    "#     a = i[0]\n",
    "#     for j in \n",
    "#     np.where(i[0] > a)"
   ]
  },
  {
   "cell_type": "code",
   "execution_count": 19,
   "metadata": {},
   "outputs": [],
   "source": [
    "# for i in range(len(X)):\n",
    "#     print('----')\n",
    "#     for j in range(3):\n",
    "#         print(X[i,j])"
   ]
  },
  {
   "cell_type": "code",
   "execution_count": 20,
   "metadata": {},
   "outputs": [],
   "source": [
    "# お蔵入り（こんなに場合分けする必要ないし）\n",
    "# nodeA or nodeBへ場合分けする\n",
    "# def divide_nodeA_or_nodeB(X):\n",
    "#     for i in range(len(X)):\n",
    "#         nodeA = []\n",
    "#         nodeB = []\n",
    "#         for j in range(len(X)):      \n",
    "#             # X0で場合分けする\n",
    "#             if X[i, 0] >= X[j, 0]:              \n",
    "#                 # nodeAに振り分ける\n",
    "#                 nodeA.append(X[j, [0, 2]])\n",
    "#             else:         \n",
    "#                 # nodeBに振り分ける\n",
    "#                 nodeB.append(X[j, [0, 2]])\n",
    "#             print(\"i:\",i,\"--\",\"j:\",j,\"--\",\"nodeA:\",len(nodeA),\"class0:\", \"sa\" ,\"class1:\",\"a\" ,\"--------\" ,\"nodeB:\",len(nodeB))"
   ]
  },
  {
   "cell_type": "code",
   "execution_count": 21,
   "metadata": {},
   "outputs": [],
   "source": [
    "# a = np.array([3,5,7])\n",
    "# y = np.array([0,1,0])\n",
    "# b = np.array([True, False, True])\n",
    "# a[b]"
   ]
  },
  {
   "cell_type": "code",
   "execution_count": 22,
   "metadata": {},
   "outputs": [],
   "source": [
    "# th  =4\n",
    "\n",
    "# big = a > th\n",
    "# small = a<=th"
   ]
  },
  {
   "cell_type": "code",
   "execution_count": 23,
   "metadata": {},
   "outputs": [],
   "source": [
    "# a[big]\n",
    "# a[small]"
   ]
  },
  {
   "cell_type": "code",
   "execution_count": 24,
   "metadata": {},
   "outputs": [],
   "source": [
    "# y[big]\n",
    "# y[small]"
   ]
  }
 ],
 "metadata": {
  "kernelspec": {
   "display_name": "Python 3",
   "language": "python",
   "name": "python3"
  },
  "language_info": {
   "codemirror_mode": {
    "name": "ipython",
    "version": 3
   },
   "file_extension": ".py",
   "mimetype": "text/x-python",
   "name": "python",
   "nbconvert_exporter": "python",
   "pygments_lexer": "ipython3",
   "version": "3.6.6"
  },
  "toc": {
   "base_numbering": 1,
   "nav_menu": {},
   "number_sections": false,
   "sideBar": true,
   "skip_h1_title": false,
   "title_cell": "Table of Contents",
   "title_sidebar": "Contents",
   "toc_cell": false,
   "toc_position": {},
   "toc_section_display": true,
   "toc_window_display": false
  }
 },
 "nbformat": 4,
 "nbformat_minor": 2
}
