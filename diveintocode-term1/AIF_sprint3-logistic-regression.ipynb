{
 "cells": [
  {
   "cell_type": "markdown",
   "metadata": {},
   "source": [
    "# この課題の目的\n",
    "・コーディング力を向上させる  \n",
    "・スクラッチを通してロジスティック回帰を理解する  \n",
    "・分類問題について基礎を学ぶ  "
   ]
  },
  {
   "cell_type": "code",
   "execution_count": 1,
   "metadata": {},
   "outputs": [],
   "source": [
    "#データの取り込み\n",
    "import numpy as np\n",
    "import pandas as pd\n",
    "import matplotlib.pyplot as plt\n",
    "from sklearn.model_selection import  train_test_split\n",
    "\n",
    "%matplotlib inline"
   ]
  },
  {
   "cell_type": "code",
   "execution_count": 2,
   "metadata": {},
   "outputs": [],
   "source": [
    "# Irisデータセットの用意\n",
    "iris = pd.read_csv(\"/Users/tsuneo/kaggle/IrisSpecies/Iris.csv\")"
   ]
  },
  {
   "cell_type": "code",
   "execution_count": 3,
   "metadata": {},
   "outputs": [
    {
     "data": {
      "text/plain": [
       "(150, 6)"
      ]
     },
     "execution_count": 3,
     "metadata": {},
     "output_type": "execute_result"
    }
   ],
   "source": [
    "# 型の確認\n",
    "iris.shape"
   ]
  },
  {
   "cell_type": "code",
   "execution_count": 4,
   "metadata": {},
   "outputs": [
    {
     "data": {
      "text/html": [
       "<div>\n",
       "<style scoped>\n",
       "    .dataframe tbody tr th:only-of-type {\n",
       "        vertical-align: middle;\n",
       "    }\n",
       "\n",
       "    .dataframe tbody tr th {\n",
       "        vertical-align: top;\n",
       "    }\n",
       "\n",
       "    .dataframe thead th {\n",
       "        text-align: right;\n",
       "    }\n",
       "</style>\n",
       "<table border=\"1\" class=\"dataframe\">\n",
       "  <thead>\n",
       "    <tr style=\"text-align: right;\">\n",
       "      <th></th>\n",
       "      <th>Id</th>\n",
       "      <th>SepalLengthCm</th>\n",
       "      <th>SepalWidthCm</th>\n",
       "      <th>PetalLengthCm</th>\n",
       "      <th>PetalWidthCm</th>\n",
       "      <th>Species</th>\n",
       "    </tr>\n",
       "  </thead>\n",
       "  <tbody>\n",
       "    <tr>\n",
       "      <th>0</th>\n",
       "      <td>1</td>\n",
       "      <td>5.1</td>\n",
       "      <td>3.5</td>\n",
       "      <td>1.4</td>\n",
       "      <td>0.2</td>\n",
       "      <td>Iris-setosa</td>\n",
       "    </tr>\n",
       "    <tr>\n",
       "      <th>1</th>\n",
       "      <td>2</td>\n",
       "      <td>4.9</td>\n",
       "      <td>3.0</td>\n",
       "      <td>1.4</td>\n",
       "      <td>0.2</td>\n",
       "      <td>Iris-setosa</td>\n",
       "    </tr>\n",
       "    <tr>\n",
       "      <th>2</th>\n",
       "      <td>3</td>\n",
       "      <td>4.7</td>\n",
       "      <td>3.2</td>\n",
       "      <td>1.3</td>\n",
       "      <td>0.2</td>\n",
       "      <td>Iris-setosa</td>\n",
       "    </tr>\n",
       "  </tbody>\n",
       "</table>\n",
       "</div>"
      ],
      "text/plain": [
       "   Id  SepalLengthCm  SepalWidthCm  PetalLengthCm  PetalWidthCm      Species\n",
       "0   1            5.1           3.5            1.4           0.2  Iris-setosa\n",
       "1   2            4.9           3.0            1.4           0.2  Iris-setosa\n",
       "2   3            4.7           3.2            1.3           0.2  Iris-setosa"
      ]
     },
     "execution_count": 4,
     "metadata": {},
     "output_type": "execute_result"
    }
   ],
   "source": [
    "iris.head(3)"
   ]
  },
  {
   "cell_type": "code",
   "execution_count": 5,
   "metadata": {},
   "outputs": [],
   "source": [
    "#  目的変数Speciesの中から2つに限定する\n",
    "iris = iris.query('Species in [\"Iris-versicolor\", \"Iris-virginica\"]')"
   ]
  },
  {
   "cell_type": "code",
   "execution_count": 6,
   "metadata": {},
   "outputs": [
    {
     "data": {
      "text/plain": [
       "(100, 6)"
      ]
     },
     "execution_count": 6,
     "metadata": {},
     "output_type": "execute_result"
    }
   ],
   "source": [
    "iris.shape"
   ]
  },
  {
   "cell_type": "code",
   "execution_count": 7,
   "metadata": {},
   "outputs": [
    {
     "name": "stdout",
     "output_type": "stream",
     "text": [
      "<class 'pandas.core.frame.DataFrame'>\n",
      "<class 'pandas.core.frame.DataFrame'>\n"
     ]
    },
    {
     "name": "stderr",
     "output_type": "stream",
     "text": [
      "/Users/tsuneo/.pyenv/versions/anaconda3-4.3.0/lib/python3.6/site-packages/ipykernel_launcher.py:5: SettingWithCopyWarning: \n",
      "A value is trying to be set on a copy of a slice from a DataFrame.\n",
      "Try using .loc[row_indexer,col_indexer] = value instead\n",
      "\n",
      "See the caveats in the documentation: http://pandas.pydata.org/pandas-docs/stable/indexing.html#indexing-view-versus-copy\n",
      "  \"\"\"\n"
     ]
    },
    {
     "data": {
      "text/plain": [
       "((100, 4), (100, 1))"
      ]
     },
     "execution_count": 7,
     "metadata": {},
     "output_type": "execute_result"
    }
   ],
   "source": [
    "# irisのデータを説明変数、目的変数に分割する\n",
    "X = iris[[\"SepalLengthCm\", \"SepalWidthCm\", \"PetalLengthCm\", \"PetalWidthCm\"]]\n",
    "y = iris[[\"Species\"]]\n",
    "print(type(y))\n",
    "y[\"Species\"] = y[\"Species\"].map({'Iris-versicolor':0, 'Iris-virginica':1})[:,None]\n",
    "print(type(y))\n",
    "X.shape, y.shape"
   ]
  },
  {
   "cell_type": "code",
   "execution_count": 8,
   "metadata": {},
   "outputs": [
    {
     "data": {
      "text/plain": [
       "((80, 4), (20, 4), (80, 1), (20, 1))"
      ]
     },
     "execution_count": 8,
     "metadata": {},
     "output_type": "execute_result"
    }
   ],
   "source": [
    "# Iris-versicolorとIris-virginicaの割合が偏らないようにする\n",
    "# すいません、sklearnに頼りました\n",
    "X_train, X_test, y_train, y_test = train_test_split(X, y, test_size=0.2, stratify=y[\"Species\"])\n",
    "X_train.shape, X_test.shape, y_train.shape, y_test.shape"
   ]
  },
  {
   "cell_type": "code",
   "execution_count": 9,
   "metadata": {},
   "outputs": [],
   "source": [
    "X_train = X_train.values\n",
    "X_test = X_test.values\n",
    "y_train = y_train.values\n",
    "y_test = y_test.values"
   ]
  },
  {
   "cell_type": "markdown",
   "metadata": {},
   "source": [
    "# ロジスティック回帰のクラスを作成する"
   ]
  },
  {
   "cell_type": "markdown",
   "metadata": {},
   "source": [
    "## シグモイド関数を実装する。"
   ]
  },
  {
   "cell_type": "code",
   "execution_count": 10,
   "metadata": {},
   "outputs": [],
   "source": [
    "def sigmoid_func(z):\n",
    "    return 1/(1+np.exp(-z))"
   ]
  },
  {
   "cell_type": "code",
   "execution_count": 11,
   "metadata": {},
   "outputs": [
    {
     "data": {
      "image/png": "[encoded data removed]",
      "text/plain": [
       "<Figure size 432x288 with 1 Axes>"
      ]
     },
     "metadata": {
      "needs_background": "light"
     },
     "output_type": "display_data"
    }
   ],
   "source": [
    "x = np.arange(-10, 11, 0.1)\n",
    "y = sigmoid_func(x)\n",
    "plt.plot(x, y, \"r\", label=\"sigmoid-function\")\n",
    "plt.xlabel(\"number\", fontsize=15)\n",
    "plt.ylabel(\"sigmoid\", fontsize=15)\n",
    "plt.title(\"sigmoid-function\", fontsize=20)\n",
    "ax = plt.gca()\n",
    "ax.yaxis.grid(True)\n",
    "plt.legend()\n",
    "plt.show()"
   ]
  },
  {
   "cell_type": "markdown",
   "metadata": {},
   "source": [
    "## ロジスティック回帰class"
   ]
  },
  {
   "cell_type": "code",
   "execution_count": 24,
   "metadata": {},
   "outputs": [],
   "source": [
    "import matplotlib.pyplot as plt\n",
    "\n",
    "class ScratchLogisticRegression:\n",
    "    \n",
    "    # コンストラクタ\n",
    "    def __init__(self, λ, lr, iteration):\n",
    "        self.λ = λ                                            # 正則化パラメータ\n",
    "        self.lr = lr                                            # 学習率\n",
    "        self.iteration = iteration                   # イテレーション回数\n",
    "        self.theta = np.random.rand(4,1)  # 重みパラメータ \n",
    "        \n",
    "     #シグモイド関数\n",
    "    def _sigmoid_func(self, z):\n",
    "        return 1/(1+np.exp(-z))\n",
    "    \n",
    "    # 仮定関数（X：N行×4列、theta：4行×1列　＝　N行×1列）\n",
    "    def _assumed_func(self, X_train):\n",
    "        return np.dot(X_train, self.theta)\n",
    "    \n",
    "    # 目的関数（損失関数）を実装する （戻り値はスカラー値）\n",
    "    def _logistic_reg_func(self, X_train, y_train):\n",
    "        m = len(X_train)                              # 入力されるデータ数\n",
    "        z = self._assumed_func(X_train) # 入力総和（ベクトル）\n",
    "        h = self._sigmoid_func(z)               # 仮定関数（ベクトル）\n",
    "        return (1/m)*np.sum(-y*np.log(h) - (1- y)*np.log(1 - h)) + (self.λ/2*m)*np.sum(self.theta**2)\n",
    "    \n",
    "    # 勾配降下法で重みを更新する\n",
    "    def _gradient_decent(self, X_train, y_train):\n",
    "        m = len(X_train)\n",
    "        self.theta = np.random.rand(4,1)\n",
    "        for i in range(self.iteration):\n",
    "            # 仮定関数（予測値）と教師データとの差分を取得し、転置する\n",
    "            A = (self._assumed_func(X_train) - y_train).T\n",
    "    \n",
    "            # 重みを更新する\n",
    "            self.theta =  self.theta -  self.lr*((1/m)*np.sum(np.dot(A, X_train))) + (self.λ/m)*self.theta\n",
    "    \n",
    "            #　損失値を取得する\n",
    "            cost = self._logistic_reg_func(X_train, y_train)\n",
    "             \n",
    "            # 格納していく\n",
    "            self.theta_list.append(self.theta)\n",
    "            self.cost_list.append(cost)\n",
    "    \n",
    "    # 学習\n",
    "    def fit(self, X_train, y_train):\n",
    "        cost = []\n",
    "        self.cost_list = []\n",
    "        self.theta_list = []\n",
    "        self._gradient_decent(X_train, y_train)\n",
    "    \n",
    "    # 確率を予測\n",
    "    def predict_proba(self, X_test):\n",
    "        return self._assumed_func(X_test)\n",
    "    \n",
    "    # 推定したラベルを出力\n",
    "    def predict_label(self, X_test):\n",
    "        proba = self.predict_proba(X_test)\n",
    "        for i, proba_to_flag in enumerate(proba):\n",
    "            if proba_to_flag >0.5:\n",
    "                proba[i, -1] = 1\n",
    "                proba = proba.astype(np.int)\n",
    "            else:\n",
    "                proba[i, -1] = 0\n",
    "                proba = proba.astype(np.int)\n",
    "        return proba\n",
    "    \n",
    "    # 描画\n",
    "    def visualize_graph(self):\n",
    "        plt.plot(self.cost_list, \"r\", label=\"data\")\n",
    "        plt.xlabel(\"iteration\", fontsize=15)\n",
    "        plt.ylabel(\"loss\", fontsize=15)\n",
    "        plt.title(\"Learning curve\", fontsize=20)\n",
    "        plt.legend()\n",
    "        plt.show()"
   ]
  },
  {
   "cell_type": "code",
   "execution_count": 25,
   "metadata": {},
   "outputs": [],
   "source": [
    "#学習してみる\n",
    "slr = ScratchLogisticRegression(λ=0.00001, lr=0.000001, iteration=30000)\n",
    "slr.fit(X_train, y_train)"
   ]
  },
  {
   "cell_type": "code",
   "execution_count": 26,
   "metadata": {},
   "outputs": [
    {
     "data": {
      "image/png": "[encoded data removed]",
      "text/plain": [
       "<Figure size 432x288 with 1 Axes>"
      ]
     },
     "metadata": {
      "needs_background": "light"
     },
     "output_type": "display_data"
    }
   ],
   "source": [
    "# 描画してみる\n",
    "slr.visualize_graph()"
   ]
  },
  {
   "cell_type": "code",
   "execution_count": 27,
   "metadata": {},
   "outputs": [
    {
     "data": {
      "text/plain": [
       "array([[1],\n",
       "       [1],\n",
       "       [0],\n",
       "       [1],\n",
       "       [1],\n",
       "       [0],\n",
       "       [0],\n",
       "       [0],\n",
       "       [0],\n",
       "       [0],\n",
       "       [0],\n",
       "       [1],\n",
       "       [1],\n",
       "       [1],\n",
       "       [1],\n",
       "       [1],\n",
       "       [0],\n",
       "       [1],\n",
       "       [1],\n",
       "       [0]])"
      ]
     },
     "execution_count": 27,
     "metadata": {},
     "output_type": "execute_result"
    }
   ],
   "source": [
    "#予測したラベル（０、１）を出力してみる\n",
    "slr.predict_label(X_test)"
   ]
  },
  {
   "cell_type": "code",
   "execution_count": 28,
   "metadata": {},
   "outputs": [
    {
     "data": {
      "text/plain": [
       "array([[0],\n",
       "       [1],\n",
       "       [1],\n",
       "       [0],\n",
       "       [0],\n",
       "       [0],\n",
       "       [0],\n",
       "       [1],\n",
       "       [1],\n",
       "       [1],\n",
       "       [1],\n",
       "       [1],\n",
       "       [1],\n",
       "       [0],\n",
       "       [0],\n",
       "       [1],\n",
       "       [0],\n",
       "       [0],\n",
       "       [0],\n",
       "       [1]])"
      ]
     },
     "execution_count": 28,
     "metadata": {},
     "output_type": "execute_result"
    }
   ],
   "source": [
    "y_test"
   ]
  },
  {
   "cell_type": "code",
   "execution_count": 29,
   "metadata": {},
   "outputs": [],
   "source": [
    "#学習した重みを保存する\n",
    "import pickle\n",
    "filename = 'finalized_model.pkl'\n",
    "pickle.dump(slr, open(filename, 'wb'))"
   ]
  },
  {
   "cell_type": "code",
   "execution_count": 30,
   "metadata": {},
   "outputs": [
    {
     "name": "stdout",
     "output_type": "stream",
     "text": [
      "AIF_sprint2-linear-regression.ipynb     finalized_model.pkl\r\n",
      "AIF_sprint2-linear-regression_OLD.ipynb \u001b[34mml-scratch\u001b[m\u001b[m\r\n",
      "AIF_sprint3-logistic-regression.ipynb   \u001b[34msprint1\u001b[m\u001b[m\r\n",
      "IMG_0390.JPG                            \u001b[34msprint2\u001b[m\u001b[m\r\n",
      "Untitled.ipynb\r\n"
     ]
    }
   ],
   "source": [
    "! ls"
   ]
  },
  {
   "cell_type": "code",
   "execution_count": 31,
   "metadata": {},
   "outputs": [],
   "source": [
    "# 保存したモデルをロードする\n",
    "import pickle\n",
    "filename = 'finalized_model.pkl'\n",
    "loaded_model = pickle.load(open(filename, 'rb'))"
   ]
  },
  {
   "cell_type": "code",
   "execution_count": 32,
   "metadata": {},
   "outputs": [
    {
     "data": {
      "text/plain": [
       "array([[1],\n",
       "       [1],\n",
       "       [0],\n",
       "       [1],\n",
       "       [1],\n",
       "       [0],\n",
       "       [0],\n",
       "       [0],\n",
       "       [0],\n",
       "       [0],\n",
       "       [0],\n",
       "       [1],\n",
       "       [1],\n",
       "       [1],\n",
       "       [1],\n",
       "       [1],\n",
       "       [0],\n",
       "       [1],\n",
       "       [1],\n",
       "       [0]])"
      ]
     },
     "execution_count": 32,
     "metadata": {},
     "output_type": "execute_result"
    }
   ],
   "source": [
    "loaded_model.predict_label(X_test)"
   ]
  },
  {
   "cell_type": "code",
   "execution_count": 33,
   "metadata": {},
   "outputs": [
    {
     "data": {
      "text/plain": [
       "array([[3, 7],\n",
       "       [6, 4]])"
      ]
     },
     "execution_count": 33,
     "metadata": {},
     "output_type": "execute_result"
    }
   ],
   "source": [
    "# sklearnの混同行列を使い、評価して見る\n",
    "#  なぜか、TPとTNをみて、全然当たっていない。。。\n",
    "from sklearn.metrics import confusion_matrix\n",
    "confusion_matrix(y_test, slr.predict_label(X_test))"
   ]
  },
  {
   "cell_type": "markdown",
   "metadata": {},
   "source": [
    "# 説明"
   ]
  },
  {
   "cell_type": "markdown",
   "metadata": {},
   "source": [
    "**ロジスティック回帰とは**  \n",
    "線形分離問題と二値分類問題に使われるアルゴリズムです。名前には「回帰」とついていますが、分類問題を扱います。  \n",
    "ラベルの値が2種類しかないような教師あり訓練データに適用されます。ラベルの値は０または１だとします。与えられた特徴量のサンプルxに対して、ラベルyが1になる確率をPで表し、yが0になる確率をPで表します。\n",
    "$P(Y = 1| X = x) = σ(w_0 + \\sum_{j=1}^d x_jw_j) = σ(w^tx^t)$　・・・式1\n",
    "\n",
    "ここで、σはシグモイド関数と呼ばれるもので\n",
    "$σ(ζ)　= 1/(1 + exp(-ζ))$\n",
    "で定義されます。\n",
    "\n",
    "式１でσの中を見ると、xについての線形関数となっています。ここでのアイディアは、サンプルxがラベル1に属するかという確からしさは線形関数の値が大きいほど大きくなるという仮定ですが、単純に線形関数の値を考えるとその値は-∞から+∞までの値をとります。\n",
    "\n",
    "\n",
    "**交差エントロピー誤差関数とは**  \n",
    "損失関数に分類される関数です。ロジスティック回帰で使用される目的関数（損失関数）です。ちなみに、今回のSPRINT2の線形回帰では２乗和誤差関数（MSE）を使用しました。\n",
    "\n",
    "\n",
    "**シグモイド関数とは**  \n",
    "$y = 1/(1 + e^{-x})$で表される関数です。  \n",
    "ロジスティック（logistic）関数と呼ばれることもある。機械学習では活性化関数として利用されます。yの値が0< y < 1の範囲となるため、確率を表すことができる。xが０の時に0.5となる。\n",
    "\n",
    "\n",
    "**正則化とは**  \n",
    "機械学習で過学習を防ぐ。正則化はモデル（仮定関数）のパラメータの学習に使われます。汎化能力を高めるために使われます。L1正則化とL2正則化があるが、今回のSPRINTはL2正則化の方で行った。\n",
    "\n",
    "過学習が発生しているモデルは、「バリアンスが高い」（high variance）とも表現される。その原因はパラメータの数が多すぎるため。データに対してモデルが複雑すぎることが考えられる。同様に、モデルは学習不足（underfitting）に陥ることもある。つまり、トレーニングデータセットのパターンをうまく捕捉するにはモデルの複雑さが十分ではなく、未知のデータに対する性能が低いことを意味する。このようなモデルは「バイアスが高い」（high bias）とも呼ばれる。\n",
    "\n"
   ]
  },
  {
   "cell_type": "markdown",
   "metadata": {},
   "source": [
    "# 平均二乗誤差と交差エントロピー誤差\n",
    "ロジスティック回帰では、平均二乗誤差ではなく交差エントロピー誤差を使う理由を説明せよ。"
   ]
  },
  {
   "cell_type": "markdown",
   "metadata": {},
   "source": [
    "**損失関数を$L(t,f(w,x))$とする**\n",
    "\n",
    "**線形回帰の平均二乗誤差**  \n",
    "$L(t,f(w,x)) = \\sum_{j=1}(t_i - f(w, x_i))^2$  \n",
    "正解$t$と関数の出力$f(w,x)$が近くなるようにする\n",
    "  \n",
    "\n",
    "**ロジスティック回帰の交差エントロピー誤差**  \n",
    "$L(t,f(w,x)) = -\\sum_{j=1}t_i log(f(w, x_i))$  \n",
    "正解$t_i$と出力$f(w_i,x_i)$をそれぞれ確率分布とみなして、確率分布に近づける。\n",
    "\n",
    "\n",
    "線形回帰は、正解ラベルと予測値との差分を引き算で計算できた。しかし、ロジスティック回帰は確率を求めるモデルのため、単純に引き算で誤差を計算してはいけない。そのため、線形とロジスティックでは行っていることが異なるので、棲み分けしている。"
   ]
  }
 ],
 "metadata": {
  "kernelspec": {
   "display_name": "Python 3",
   "language": "python",
   "name": "python3"
  },
  "language_info": {
   "codemirror_mode": {
    "name": "ipython",
    "version": 3
   },
   "file_extension": ".py",
   "mimetype": "text/x-python",
   "name": "python",
   "nbconvert_exporter": "python",
   "pygments_lexer": "ipython3",
   "version": "3.6.6"
  },
  "toc": {
   "base_numbering": 1,
   "nav_menu": {},
   "number_sections": false,
   "sideBar": true,
   "skip_h1_title": false,
   "title_cell": "Table of Contents",
   "title_sidebar": "Contents",
   "toc_cell": false,
   "toc_position": {},
   "toc_section_display": true,
   "toc_window_display": false
  }
 },
 "nbformat": 4,
 "nbformat_minor": 2
}
