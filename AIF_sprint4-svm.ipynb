{
 "cells": [
  {
   "cell_type": "markdown",
   "metadata": {},
   "source": [
    "# この課題の目的\n",
    "コーディング力を向上させる  \n",
    "スクラッチを通してSVMを理解する\n",
    "\n",
    "**※今回この課題に挑戦してみて、上記の2つの目的は達成できたと感じております。**\n",
    "\n",
    "<時間的な都合で実施していない内容>  \n",
    "・多項式カーネルに対応した関数は作成しておりません  \n",
    "・評価（Accuracy,Recall, Precision, F1でモデルの制度をみる）  \n",
    "・Scikit-learnによる実装"
   ]
  },
  {
   "cell_type": "markdown",
   "metadata": {},
   "source": [
    "## データセットの用意"
   ]
  },
  {
   "cell_type": "code",
   "execution_count": 1,
   "metadata": {},
   "outputs": [],
   "source": [
    "# データセットの用意\n",
    "import numpy as np\n",
    "\n",
    "np.random.seed(seed=0)\n",
    "n_samples = 500\n",
    "f0 = [-1, 2]\n",
    "f1 = [2, -1]\n",
    "cov = [[1.0, 0.8], [0.8, 1.0]]\n",
    "\n",
    "f0 = np.random.multivariate_normal(f0, cov, int(n_samples/2))\n",
    "f1 = np.random.multivariate_normal(f1, cov, int(n_samples/2))\n",
    "\n",
    "X = np.concatenate((f0, f1))\n",
    "y = np.concatenate((np.ones((int(n_samples/2))), np.ones((int(n_samples/2)))*(-1))).astype(np.int)\n",
    "\n",
    "random_index = np.random.permutation(np.arange(n_samples))\n",
    "X = X[random_index]\n",
    "y = y[random_index]"
   ]
  },
  {
   "cell_type": "markdown",
   "metadata": {},
   "source": [
    "## データを描画して見る"
   ]
  },
  {
   "cell_type": "code",
   "execution_count": 2,
   "metadata": {},
   "outputs": [
    {
     "data": {
      "image/png": "[encoded data removed]",
      "text/plain": [
       "<Figure size 432x288 with 1 Axes>"
      ]
     },
     "metadata": {
      "needs_background": "light"
     },
     "output_type": "display_data"
    }
   ],
   "source": [
    "# データセットの理解\n",
    "import matplotlib.pyplot as plt\n",
    "%matplotlib inline\n",
    "plt.scatter(X[:, 0], X[:, 1], s=50, c=y, marker='o')\n",
    "plt.show()"
   ]
  },
  {
   "cell_type": "markdown",
   "metadata": {},
   "source": [
    "## データを分割する\n",
    "ただ、この分割したデータは使わなかった"
   ]
  },
  {
   "cell_type": "code",
   "execution_count": 3,
   "metadata": {},
   "outputs": [],
   "source": [
    "# テストデータの分割　学習用、検証用に分割する\n",
    "# それぞれのカテゴリの割合が偏らないようにする必要がある。層別サンプリング\n",
    "from sklearn.model_selection import train_test_split\n",
    "X_train, X_test, y_train, y_test = train_test_split(X, y, train_size=0.8, test_size=0.2, stratify=y)"
   ]
  },
  {
   "cell_type": "code",
   "execution_count": 4,
   "metadata": {},
   "outputs": [
    {
     "name": "stdout",
     "output_type": "stream",
     "text": [
      "X.shape： (500, 2) y.shape： (500,)\n"
     ]
    }
   ],
   "source": [
    "# データ型の確認\n",
    "print(\"X.shape：\",X.shape, \"y.shape：\",y.shape)"
   ]
  },
  {
   "cell_type": "code",
   "execution_count": 5,
   "metadata": {},
   "outputs": [
    {
     "name": "stdout",
     "output_type": "stream",
     "text": [
      "X_train.shape： (400, 2) y_train.shape： (400,) X_test.shape: (100, 2) y_test.shape: (100,)\n"
     ]
    }
   ],
   "source": [
    "print(\"X_train.shape：\",X_train.shape, \"y_train.shape：\",y_train.shape, \"X_test.shape:\",X_test.shape,\"y_test.shape:\",y_test.shape)"
   ]
  },
  {
   "cell_type": "markdown",
   "metadata": {},
   "source": [
    "## SVM分類器のクラスを作成する"
   ]
  },
  {
   "cell_type": "code",
   "execution_count": 23,
   "metadata": {},
   "outputs": [],
   "source": [
    "class ScratchSVMClassifier:\n",
    "    \n",
    "    # 勾配降下法でramdaを更新する\n",
    "    def __init__(self, ramda, learning_rate, loop_count, threshold):\n",
    "        self.ramda = ramda # ラグランジュ乗数\n",
    "        self.threshold = threshold    # ラグランジュ乗数の閾値\n",
    "        self.learning_rate = learning_rate # 学習率\n",
    "        self.loop_count = loop_count # ループ数\n",
    "        self.save = [] #サポートベクターを保管する変数 \n",
    "        self.y = y # 正解ラベル\n",
    "\n",
    "\n",
    "    # 勾配を求めて、ラグランジュ乗数（ラムダ：ramda）を更新する\n",
    "    def gradient_desecnt(self, X, y):\n",
    "        \n",
    "        count = 0\n",
    "        #ramda = np.random.rand(500, 1)\n",
    "        \n",
    "        # ラグランジュ乗数（ラムダ）を更新する\n",
    "        while(count < self.loop_count):\n",
    "            \n",
    "            # 最初の点に対して処理を開始する\n",
    "            for i in range(len(X)):\n",
    "                \n",
    "                # 事前計算式の結果変数を作成して、初期化しておく\n",
    "                pre_calc = 0\n",
    "                \n",
    "                # 最初の点を自分自身を含む全ての点との処理を行う\n",
    "                for j in range(len(X)):\n",
    "                    \n",
    "                    # jのΣ（j=1からN）をここで計算しておく\n",
    "                    pre_calc = pre_calc + self.ramda[j] * y[i] * y[j] * np.dot(X[i].T, X[j])\n",
    "                    \n",
    "                # 計算して求まったpre_calcでラムダを更新する\n",
    "                self.ramda[i] = self.ramda[i] + self.learning_rate * (1 - pre_calc)\n",
    "                \n",
    "                # ラグランジュ乗数（ラムダ）が0以下であれば、０に更新する\n",
    "                if self.ramda[i] < 0:\n",
    "                    self.ramda[i] = 0\n",
    "            \n",
    "            count = count + 1\n",
    "            #print(count)\n",
    "        return self.ramda\n",
    "        \n",
    "        \n",
    "    # サポートベクターを保存する（fit：学習する）\n",
    "    def fit(self,X, y): \n",
    "        \n",
    "        # 勾配降下法でラグランジュ乗数をゲットする\n",
    "        ram = self.gradient_desecnt(X, y)\n",
    "        \n",
    "        # ラグランジュ乗数が閾値以上のもののインデックスを抽出する\n",
    "        for i, ra in enumerate(ram):\n",
    "            if ra > self.threshold:\n",
    "                \n",
    "                # メンバー変数へ、インデックスを追加していく\n",
    "                self.save.append(i)\n",
    "        return self.save\n",
    "    \n",
    "    \n",
    "    # 推定（predict）する\n",
    "    def predict(self, X):\n",
    "        pre_sum = 0\n",
    "        for n in (self.save):\n",
    "            pre_sum = pre_sum + self.ramda[n] * self.y[n] * np.dot(X, X[n].T)\n",
    "            \n",
    "        return pre_sum"
   ]
  },
  {
   "cell_type": "code",
   "execution_count": 24,
   "metadata": {},
   "outputs": [
    {
     "name": "stdout",
     "output_type": "stream",
     "text": [
      "time:325.9258930683136s\n"
     ]
    }
   ],
   "source": [
    "# クラスから、インスタンス変数を作成する\n",
    "ssvm = ScratchSVMClassifier(ramda=np.random.rand(500,1), learning_rate=0.05, loop_count=200, threshold=1e-5)\n",
    "\n",
    "import time\n",
    "# 時間計測開始\n",
    "t0 = time.time()\n",
    "\n",
    "# 学習する\n",
    "ssvm.fit(X, y)\n",
    "\n",
    "# 時間計測終了\n",
    "t1 = time.time()\n",
    "\n",
    "print(\"time:{}s\".format(t1 - t0))\n"
   ]
  },
  {
   "cell_type": "code",
   "execution_count": 25,
   "metadata": {},
   "outputs": [],
   "source": [
    "# サポートベクトルの座標を取得\n",
    "support_vec_coordinate = X[ssvm.save]"
   ]
  },
  {
   "cell_type": "code",
   "execution_count": 26,
   "metadata": {},
   "outputs": [
    {
     "data": {
      "text/plain": [
       "3"
      ]
     },
     "execution_count": 26,
     "metadata": {},
     "output_type": "execute_result"
    }
   ],
   "source": [
    "# サポートベクトルの個数をカウント\n",
    "len(ssvm.save)"
   ]
  },
  {
   "cell_type": "code",
   "execution_count": 27,
   "metadata": {},
   "outputs": [
    {
     "name": "stdout",
     "output_type": "stream",
     "text": [
      "time:0.00047898292541503906s\n"
     ]
    },
    {
     "data": {
      "image/png": "[encoded data removed]",
      "text/plain": [
       "<Figure size 432x288 with 1 Axes>"
      ]
     },
     "metadata": {
      "needs_background": "light"
     },
     "output_type": "display_data"
    }
   ],
   "source": [
    "plt.scatter(X[:, 0], X[:, -1], s=80, c=y, marker='o')\n",
    "\n",
    "# サポートベクトルのみプロット\n",
    "plt.scatter(support_vec_coordinate[:, 0], support_vec_coordinate[:, -1], s=80, c=\"r\", marker='*')\n",
    "\n",
    "step = 0.1\n",
    "mesh_f0, mesh_f1 = np.meshgrid(np.arange(np.min(X[:, 0])-0.5, np.max(X[:, 0])+0.5, step), np.arange(np.min(X[:, 1])-0.5, np.max(X[:, 1])+0.5,step))\n",
    "mesh = np.c_[np.ravel(mesh_f0), np.ravel(mesh_f1)]\n",
    "\n",
    "# 時間計測開始\n",
    "t0 = time.time()\n",
    "pred = ssvm.predict(mesh).reshape(mesh_f0.shape)\n",
    "\n",
    "# 時間計測終了\n",
    "t1 = time.time()\n",
    "print(\"time:{}s\".format(t1 - t0))\n",
    "\n",
    "plt.contour(mesh_f0, mesh_f1, pred, 1)\n",
    "plt.show()"
   ]
  },
  {
   "cell_type": "markdown",
   "metadata": {},
   "source": [
    "# 説明"
   ]
  },
  {
   "cell_type": "markdown",
   "metadata": {},
   "source": [
    "## SVMとは\n",
    "サポートベクトルマシン（ Support Vector Machine： SVM）は広く利用されている学習アルゴリズムの１つです。マージン（margin）を最大化することである。マージンとは、超平面（決定境界）と、この超平面に最も近いトレーニングサンプルとの間の距離として定義されます。超平面に最も近いトレーニングサンプルは**サポートベクトル（support vector）**と呼ばれます。\n",
    "\n",
    "ポイントを以下に記載します。  \n",
    "・昔流行った手法  \n",
    "・計算量が多い  \n",
    "・分類精度が良い  \n",
    "・教師あり学習  \n",
    "\n",
    "\n"
   ]
  },
  {
   "cell_type": "markdown",
   "metadata": {},
   "source": [
    "## SVMにおけるカーネルとは\n",
    "非線形な分類でも、カーネルを使うことで可能となります。カーネルの種類は以下があります。  \n",
    "・線形カーネル  \n",
    "・多項式カーネル  \n",
    "・RBFカーネル（ガウシアンカーネル）  \n",
    "・シグモイドカーネル  \n"
   ]
  },
  {
   "cell_type": "markdown",
   "metadata": {},
   "source": [
    "## ハードマージンSVMとソフトマージンSVMの違い\n",
    "**ソフトマージン**  \n",
    "過学習せずに予測ができることを汎化性といい、この汎化性を高める為に、あえて誤分類の許容を前提としたマージンをソフトマージンという。ソフトマージンは「境界線とデータはなるべく最小・誤判別は少なく」を満たす為に、以下の値を最小にするようにする。\n",
    "\n",
    "$min((1/マージン)+C×誤判別数)$\n",
    "\n",
    "パラメータ「 C 」というのは、誤判別をどこまで許容するかを表わします。Cが大きければ誤判別を許さず、小さいと誤判別を許容する物です。Cが無限大に大きければ、誤判別は1回も許容しないという制約になり実質ハードマージンと変わらなくなります。Cはあらかじめ決めておく必要があるハイパーパラメータです。Cは適当に決めるか、グリッドサーチなどを使用して「もっとも予測精度が高くなるようにパラメータを調節する」技術もあります。\n",
    "\n",
    "**ハードマージン**  \n",
    "「A分類」か「B分類」かをはっきり分けられることを前提としたマージンをハードマージンと呼びます。しかし、どうしても誤判別してしまうデータに対して無理やり「 100 % 正確な判別」をしてしまうと貴重な判別特徴を見失ってしまい、正しい分類規則が崩れ、予測の精度が下がってしまうことがあります。（過学習が発生しやすくなります）\n",
    "\n",
    "<参考サイトURL>  \n",
    "https://logics-of-blue.com/svm-concept/"
   ]
  },
  {
   "cell_type": "markdown",
   "metadata": {},
   "source": [
    "## SVMの学習時と推定時の計算時間について\n",
    "今回の学習と推定で時間を計測したところ、以下となった。圧倒的に推定（predict）の時間が短いことがわかる。学習には推論の約1,000万倍の時間が掛かっている。  \n",
    "\n",
    "<学習>  \n",
    "time:325.9258930683136s\n",
    "\n",
    "<推論>\n",
    "time:0.00047898292541503906s"
   ]
  },
  {
   "cell_type": "markdown",
   "metadata": {},
   "source": [
    "## scikit-learnのGridSearchCVの役割について\n",
    "ハイパーパラメータ（SVMならCや、kernelやgammaなど）を自動的に最適化してくれる機能です。ただ、計算コストが高いのでパラメータの値を慎重に考慮する必要があります。\n"
   ]
  }
 ],
 "metadata": {
  "kernelspec": {
   "display_name": "Python 3",
   "language": "python",
   "name": "python3"
  },
  "language_info": {
   "codemirror_mode": {
    "name": "ipython",
    "version": 3
   },
   "file_extension": ".py",
   "mimetype": "text/x-python",
   "name": "python",
   "nbconvert_exporter": "python",
   "pygments_lexer": "ipython3",
   "version": "3.6.6"
  },
  "toc": {
   "base_numbering": 1,
   "nav_menu": {},
   "number_sections": false,
   "sideBar": true,
   "skip_h1_title": false,
   "title_cell": "Table of Contents",
   "title_sidebar": "Contents",
   "toc_cell": false,
   "toc_position": {},
   "toc_section_display": true,
   "toc_window_display": false
  }
 },
 "nbformat": 4,
 "nbformat_minor": 2
}
